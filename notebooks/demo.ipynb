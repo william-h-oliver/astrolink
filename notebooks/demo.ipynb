{
 "cells": [
  {
   "cell_type": "markdown",
   "id": "819be38a-921a-485a-8e1f-58daeadc14ac",
   "metadata": {},
   "source": [
    "# Demo of the astrolink package"
   ]
  },
  {
   "cell_type": "markdown",
   "id": "55984bca-1e25-45f9-8c31-ce080b2cdcfb",
   "metadata": {},
   "source": [
    "In the following we will demonstrate the astrolink package. It is currently capable of doing impressive things:"
   ]
  },
  {
   "cell_type": "code",
   "execution_count": null,
   "id": "89c489c7-9c94-43ee-9696-a4e56681fd8f",
   "metadata": {},
   "outputs": [],
   "source": [
    "import astrolink"
   ]
  },
  {
   "cell_type": "code",
   "execution_count": null,
   "id": "e2913ab6-3ae7-40ae-84ef-258bc757676c",
   "metadata": {},
   "outputs": [],
   "source": [
    "astrolink.add_one(1)"
   ]
  },
  {
   "cell_type": "markdown",
   "id": "eb8e87dc-5e78-4b1c-b880-a948658b13d9",
   "metadata": {},
   "source": [
    "There you go: `1+1=2`!"
   ]
  }
 ],
 "metadata": {
  "kernelspec": {
   "display_name": "Python 3 (ipykernel)",
   "language": "python",
   "name": "python3"
  }
 },
 "nbformat": 4,
 "nbformat_minor": 5
}
